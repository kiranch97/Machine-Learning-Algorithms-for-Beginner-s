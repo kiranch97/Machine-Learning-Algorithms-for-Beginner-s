{
  "nbformat": 4,
  "nbformat_minor": 0,
  "metadata": {
    "colab": {
      "provenance": [],
      "authorship_tag": "ABX9TyMV32RSLqKf5rBBvHKWpC5r",
      "include_colab_link": true
    },
    "kernelspec": {
      "name": "python3",
      "display_name": "Python 3"
    },
    "language_info": {
      "name": "python"
    }
  },
  "cells": [
    {
      "cell_type": "markdown",
      "metadata": {
        "id": "view-in-github",
        "colab_type": "text"
      },
      "source": [
        "<a href=\"https://colab.research.google.com/github/kiranch97/Machine-Learning-Algorithms-for-Beginner-s/blob/1.-Linear-Regression/Linear_Regression.ipynb\" target=\"_parent\"><img src=\"https://colab.research.google.com/assets/colab-badge.svg\" alt=\"Open In Colab\"/></a>"
      ]
    },
    {
      "cell_type": "markdown",
      "source": [
        "**Linear Regression** predicts a continuous output by establishing a linear relationship between input variables and the output. Imagine drawing a straight line through a set of points on a graph.\n",
        "\n",
        "It decides by finding the line that best fits the data points. This line is determined by minimizing the difference (error) between the actual values and the predicted values from the line."
      ],
      "metadata": {
        "id": "P4qFDOcLiL-I"
      }
    },
    {
      "cell_type": "markdown",
      "source": [
        "**Evaluation Metrics**\n",
        "\n",
        "1. **Mean Squared Error (MSE):** Measures the average of the squares of the errors.\n",
        "Lower values are better.\n",
        "\n",
        "2. **R-squared:** Represents the percentage of the dependent variable’s variation that can be predicted based on the independent variables. Closer to 1 is better."
      ],
      "metadata": {
        "id": "grpZr4kIjYHm"
      }
    },
    {
      "cell_type": "markdown",
      "source": [
        "**Applying with Sci-kit Learn**\n",
        "\n",
        "Since we’re discussing Linear Regression first, we’ll use the Diabetes dataset, a preloaded dataset in scikit-learn, ideal for regression tasks.\n",
        "\n",
        "Here are the steps we’ll follow in the code blocks below:\n",
        "1. **Get the Diabetes Dataset loaded:** Ten baseline variables, including age, sex, BMI, average blood pressure, and six blood serum measures for diabetic patients, are included in this dataset.\n",
        "2. Split the Dataset: Divide it into training and testing sets.\n",
        "3. Create and Train the Linear Regression Model: Build the model using the training set.\n",
        "4. Predict and Evaluate: Use the test set to make predictions and then evaluate the model using MSE and R-squared.\n",
        "\n",
        "\n",
        "\n"
      ],
      "metadata": {
        "id": "_RPzg-gKi1k4"
      }
    },
    {
      "cell_type": "code",
      "source": [],
      "metadata": {
        "id": "iyMayMcTjSD5"
      },
      "execution_count": null,
      "outputs": []
    },
    {
      "cell_type": "code",
      "execution_count": null,
      "metadata": {
        "id": "_tNXQguIiGs-"
      },
      "outputs": [],
      "source": [
        "# Import Libraries\n",
        "import numpy as np\n",
        "import pandas as pd\n",
        "from sklearn.datasets import load_diabetes\n",
        "from sklearn.model_selection import train_test_split\n",
        "from sklearn.linear_model import LinearRegression\n",
        "from sklearn.metrics import mean_squared_error, r2_score"
      ]
    },
    {
      "cell_type": "code",
      "source": [
        "# Load the Diabetes dataset\n",
        "diabetes = load_diabetes()\n",
        "X, y = diabetes.data, diabetes.target\n"
      ],
      "metadata": {
        "id": "M-VltcG4iS-X"
      },
      "execution_count": null,
      "outputs": []
    },
    {
      "cell_type": "code",
      "source": [
        "# Splitting the dataset into training and testing sets\n",
        "X_train, X_test, y_train, y_test = train_test_split(X, y, test_size=0.2, random_state=42)"
      ],
      "metadata": {
        "id": "4wCpboKTiWDD"
      },
      "execution_count": null,
      "outputs": []
    },
    {
      "cell_type": "code",
      "source": [
        "# Creating and training the Linear Regression model\n",
        "model = LinearRegression()\n",
        "model.fit(X_train, y_train)"
      ],
      "metadata": {
        "id": "5Ieyhc3SiXuU"
      },
      "execution_count": null,
      "outputs": []
    },
    {
      "cell_type": "code",
      "source": [
        "# Predicting the test set results\n",
        "y_pred = model.predict(X_test)"
      ],
      "metadata": {
        "id": "ZUocANAziZI0"
      },
      "execution_count": null,
      "outputs": []
    },
    {
      "cell_type": "code",
      "source": [
        "# Evaluating the model\n",
        "mse = mean_squared_error(y_test, y_pred)\n",
        "r2 = r2_score(y_test, y_pred)"
      ],
      "metadata": {
        "id": "Ch8MEULJiaqB"
      },
      "execution_count": null,
      "outputs": []
    },
    {
      "cell_type": "code",
      "source": [
        "print(\"MSE is:\", mse)\n",
        "print(\"R2 score is:\", r2)"
      ],
      "metadata": {
        "id": "9RgcgbJtidrq"
      },
      "execution_count": null,
      "outputs": []
    }
  ]
}